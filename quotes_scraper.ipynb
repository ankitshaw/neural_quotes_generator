{
  "nbformat": 4,
  "nbformat_minor": 0,
  "metadata": {
    "colab": {
      "name": "generate_quotes.ipynb",
      "version": "0.3.2",
      "provenance": []
    },
    "kernelspec": {
      "name": "python3",
      "display_name": "Python 3"
    },
    "accelerator": "GPU"
  },
  "cells": [
    {
      "metadata": {
        "id": "6fVTN1g5qmha",
        "colab_type": "code",
        "colab": {}
      },
      "cell_type": "code",
      "source": [
        "!pip install BeautifulSoup4\n"
      ],
      "execution_count": 0,
      "outputs": []
    },
    {
      "metadata": {
        "id": "c7y4MdCMrjMA",
        "colab_type": "code",
        "colab": {}
      },
      "cell_type": "code",
      "source": [
        "# import libraries\n",
        "from urllib.request import urlopen\n",
        "from bs4 import BeautifulSoup"
      ],
      "execution_count": 0,
      "outputs": []
    },
    {
      "metadata": {
        "id": "aPnobc-AsAOX",
        "colab_type": "code",
        "colab": {}
      },
      "cell_type": "code",
      "source": [
        "# specify the url\n",
        "quote_page = 'https://www.goodreads.com/quotes/tag/inspirational'"
      ],
      "execution_count": 0,
      "outputs": []
    },
    {
      "metadata": {
        "id": "XnK1da4BsJAr",
        "colab_type": "code",
        "colab": {}
      },
      "cell_type": "code",
      "source": [
        "# query the website and return the html to the variable ‘page’\n",
        "page = urlopen(quote_page)"
      ],
      "execution_count": 0,
      "outputs": []
    },
    {
      "metadata": {
        "id": "Wdpbl567sQ2q",
        "colab_type": "code",
        "colab": {}
      },
      "cell_type": "code",
      "source": [
        "# parse the html using beautiful soup and store in variable `soup`\n",
        "soup = BeautifulSoup(page, 'html.parser')"
      ],
      "execution_count": 0,
      "outputs": []
    },
    {
      "metadata": {
        "id": "Z-eWqf6lsg-P",
        "colab_type": "code",
        "colab": {}
      },
      "cell_type": "code",
      "source": [
        "# Take out the <div> of name and get its value\n",
        "name_box = soup.find_all(attrs={'class':'quoteText'})"
      ],
      "execution_count": 0,
      "outputs": []
    },
    {
      "metadata": {
        "id": "UePDuweaxN2E",
        "colab_type": "code",
        "colab": {}
      },
      "cell_type": "code",
      "source": [
        "quotes = []"
      ],
      "execution_count": 0,
      "outputs": []
    },
    {
      "metadata": {
        "id": "7DXDHQwB1VJD",
        "colab_type": "code",
        "colab": {}
      },
      "cell_type": "code",
      "source": [
        "for x in range(1,101):\n",
        "  \n",
        "  # specify the url\n",
        "  quote_page = \"https://www.goodreads.com/quotes/tag/inspirational?page=\"+str(x)\n",
        "  \n",
        "  # query the website and return the html to the variable ‘page’\n",
        "  page = urlopen(quote_page)\n",
        "  print(quote_page)\n",
        "  \n",
        "  # parse the html using beautiful soup and store in variable `soup`\n",
        "  soup = BeautifulSoup(page, 'html.parser')\n",
        "  \n",
        "  # Take out the <div> of name and get its value\n",
        "  name_box = soup.find_all(attrs={'class':'quoteText'})\n",
        "  \n",
        "  for element in soup.find_all(attrs={'class':'quoteText'}):\n",
        "      quotes.append(element.text.strip().splitlines()[0][1:-1])\n",
        "\n",
        "print(len(quotes))"
      ],
      "execution_count": 0,
      "outputs": []
    },
    {
      "metadata": {
        "id": "iBedU9zg5vfa",
        "colab_type": "code",
        "colab": {}
      },
      "cell_type": "code",
      "source": [
        "print(len(quotes))"
      ],
      "execution_count": 0,
      "outputs": []
    },
    {
      "metadata": {
        "id": "jcdSPGzh6YpM",
        "colab_type": "code",
        "colab": {}
      },
      "cell_type": "code",
      "source": [
        "with open('quotes_file.txt', 'w') as f:\n",
        "    for item in quotes:\n",
        "        f.write(\"%s\\n\" % item)"
      ],
      "execution_count": 0,
      "outputs": []
    },
    {
      "metadata": {
        "id": "9HPgjmxv6dh7",
        "colab_type": "code",
        "colab": {}
      },
      "cell_type": "code",
      "source": [
        "# Download the quote\n",
        "from google.colab import files\n",
        "files.download('quotes_file.txt') "
      ],
      "execution_count": 0,
      "outputs": []
    },
    {
      "metadata": {
        "id": "vba0qvyjIeiZ",
        "colab_type": "code",
        "colab": {}
      },
      "cell_type": "code",
      "source": [
        ""
      ],
      "execution_count": 0,
      "outputs": []
    }
  ]
}